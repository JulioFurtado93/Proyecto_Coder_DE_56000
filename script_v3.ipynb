{
 "cells": [
  {
   "cell_type": "markdown",
   "metadata": {},
   "source": [
    "PASO 1 - \n",
    "CONEXION A LA API"
   ]
  },
  {
   "cell_type": "code",
   "execution_count": 85,
   "metadata": {},
   "outputs": [
    {
     "data": {
      "text/plain": [
       "{'coord': {'lon': -58.3772, 'lat': -34.6132},\n",
       " 'weather': [{'id': 800,\n",
       "   'main': 'Clear',\n",
       "   'description': 'cielo claro',\n",
       "   'icon': '01n'}],\n",
       " 'base': 'stations',\n",
       " 'main': {'temp': 21.87,\n",
       "  'feels_like': 21.97,\n",
       "  'temp_min': 21.07,\n",
       "  'temp_max': 22.1,\n",
       "  'pressure': 1013,\n",
       "  'humidity': 71},\n",
       " 'visibility': 10000,\n",
       " 'wind': {'speed': 7.72, 'deg': 100},\n",
       " 'clouds': {'all': 0},\n",
       " 'dt': 1699310058,\n",
       " 'sys': {'type': 1,\n",
       "  'id': 8224,\n",
       "  'country': 'AR',\n",
       "  'sunrise': 1699260443,\n",
       "  'sunset': 1699309612},\n",
       " 'timezone': -10800,\n",
       " 'id': 3435910,\n",
       " 'name': 'Buenos Aires',\n",
       " 'cod': 200}"
      ]
     },
     "execution_count": 85,
     "metadata": {},
     "output_type": "execute_result"
    }
   ],
   "source": [
    "import requests\n",
    "import pandas as pd\n",
    "#import json\n",
    "\n",
    "#se declaran las variables para ciudad, pais, idioma y unidades para pasarlas como parametro a la api\n",
    "#como idea a futuro, podria armar desde aca que itere una lista de ciudades por ejemplo para hacer crecer la db\n",
    "#podria servir para responder comparacion entre ciudades en lugar de unicamente a nivel historico de una ciudad\n",
    "city_name = 'Buenos Aires'\n",
    "country_code = 'AR'\n",
    "lang = 'es'\n",
    "units = 'metric'\n",
    "with open('api_key.txt','r') as p:\n",
    "    api_key = p.read()\n",
    "\n",
    "response = requests.get(\n",
    "    f'https://api.openweathermap.org/data/2.5/weather?q={city_name},{country_code}&appid={api_key}&lang={lang}&units={units}')\n",
    "raw_weather_data = response.json()\n",
    "raw_weather_data"
   ]
  },
  {
   "cell_type": "markdown",
   "metadata": {},
   "source": [
    "PASO 1.1 - FUNCION DE TRANSFORMACION"
   ]
  },
  {
   "cell_type": "code",
   "execution_count": 86,
   "metadata": {},
   "outputs": [],
   "source": [
    "from datetime import timedelta\n",
    "\n",
    "def transform_data(dataframe):\n",
    "    #normalizacion y concatenacion del json\n",
    "    df = pd.json_normalize(dataframe)\n",
    "    norm_weather_df = pd.json_normalize(df['weather'][0])\n",
    "    all_weather_df = pd.concat([df, norm_weather_df], axis=1)\n",
    "\n",
    "    #eliminacion de columnas sin uso\n",
    "    reduced_weather_df = all_weather_df.drop(['base', 'timezone', 'id', 'cod', 'sys.type', 'sys.id', 'id', 'icon'], axis=1)\n",
    "    \n",
    "    #orden de columnas\n",
    "    sorted_weather_df = reduced_weather_df[['dt','name','sys.country','coord.lon','coord.lat','main','description','main.temp','main.feels_like','main.temp_min','main.temp_max','main.pressure','main.humidity','wind.speed','wind.deg','clouds.all','sys.sunrise','sys.sunset']]\n",
    "\n",
    "    #formato datetime de UNIX a GMT 0\n",
    "    sorted_weather_df['dt'] = pd.to_datetime(sorted_weather_df['dt'], unit='s')\n",
    "    sorted_weather_df['sys.sunrise'] = pd.to_datetime(sorted_weather_df['sys.sunrise'], unit='s')\n",
    "    sorted_weather_df['sys.sunset'] = pd.to_datetime(sorted_weather_df['sys.sunset'], unit='s')\n",
    "\n",
    "    #GMT -3 usando timedelta\n",
    "    sorted_weather_df['dt'] = sorted_weather_df['dt'] - timedelta(hours=3)\n",
    "    sorted_weather_df['sys.sunrise'] = sorted_weather_df['sys.sunrise'] - timedelta(hours=3)\n",
    "    sorted_weather_df['sys.sunset'] = sorted_weather_df['sys.sunset'] - timedelta(hours=3)\n",
    "\n",
    "    #renombrar columnas para exportar luego a Redshift\n",
    "    sorted_weather_df.rename(columns = {'sys.country':'country','coord.lon':'longitude','coord.lat':'latitude','main.temp':'temp','main.feels_like':'feels_like','main.temp_min':'temp_min','main.temp_max':'temp_max','main.pressure':'pressure','main.humidity':'humidity','wind.speed':'wind_speed','wind.deg':'wind_deg','clouds.all':'clouds','sys.sunrise':'sunrise_time','sys.sunset':'sunset_time'}, inplace = True)\n",
    "\n",
    "    return(sorted_weather_df)"
   ]
  },
  {
   "cell_type": "markdown",
   "metadata": {},
   "source": [
    "2.2 - EJECUCIÓN"
   ]
  },
  {
   "cell_type": "code",
   "execution_count": 87,
   "metadata": {},
   "outputs": [
    {
     "name": "stderr",
     "output_type": "stream",
     "text": [
      "C:\\Users\\Julito\\AppData\\Local\\Temp\\ipykernel_10236\\570888800.py:16: SettingWithCopyWarning: \n",
      "A value is trying to be set on a copy of a slice from a DataFrame.\n",
      "Try using .loc[row_indexer,col_indexer] = value instead\n",
      "\n",
      "See the caveats in the documentation: https://pandas.pydata.org/pandas-docs/stable/user_guide/indexing.html#returning-a-view-versus-a-copy\n",
      "  sorted_weather_df['dt'] = pd.to_datetime(sorted_weather_df['dt'], unit='s')\n",
      "C:\\Users\\Julito\\AppData\\Local\\Temp\\ipykernel_10236\\570888800.py:17: SettingWithCopyWarning: \n",
      "A value is trying to be set on a copy of a slice from a DataFrame.\n",
      "Try using .loc[row_indexer,col_indexer] = value instead\n",
      "\n",
      "See the caveats in the documentation: https://pandas.pydata.org/pandas-docs/stable/user_guide/indexing.html#returning-a-view-versus-a-copy\n",
      "  sorted_weather_df['sys.sunrise'] = pd.to_datetime(sorted_weather_df['sys.sunrise'], unit='s')\n",
      "C:\\Users\\Julito\\AppData\\Local\\Temp\\ipykernel_10236\\570888800.py:18: SettingWithCopyWarning: \n",
      "A value is trying to be set on a copy of a slice from a DataFrame.\n",
      "Try using .loc[row_indexer,col_indexer] = value instead\n",
      "\n",
      "See the caveats in the documentation: https://pandas.pydata.org/pandas-docs/stable/user_guide/indexing.html#returning-a-view-versus-a-copy\n",
      "  sorted_weather_df['sys.sunset'] = pd.to_datetime(sorted_weather_df['sys.sunset'], unit='s')\n",
      "C:\\Users\\Julito\\AppData\\Local\\Temp\\ipykernel_10236\\570888800.py:21: SettingWithCopyWarning: \n",
      "A value is trying to be set on a copy of a slice from a DataFrame.\n",
      "Try using .loc[row_indexer,col_indexer] = value instead\n",
      "\n",
      "See the caveats in the documentation: https://pandas.pydata.org/pandas-docs/stable/user_guide/indexing.html#returning-a-view-versus-a-copy\n",
      "  sorted_weather_df['dt'] = sorted_weather_df['dt'] - timedelta(hours=3)\n",
      "C:\\Users\\Julito\\AppData\\Local\\Temp\\ipykernel_10236\\570888800.py:22: SettingWithCopyWarning: \n",
      "A value is trying to be set on a copy of a slice from a DataFrame.\n",
      "Try using .loc[row_indexer,col_indexer] = value instead\n",
      "\n",
      "See the caveats in the documentation: https://pandas.pydata.org/pandas-docs/stable/user_guide/indexing.html#returning-a-view-versus-a-copy\n",
      "  sorted_weather_df['sys.sunrise'] = sorted_weather_df['sys.sunrise'] - timedelta(hours=3)\n",
      "C:\\Users\\Julito\\AppData\\Local\\Temp\\ipykernel_10236\\570888800.py:23: SettingWithCopyWarning: \n",
      "A value is trying to be set on a copy of a slice from a DataFrame.\n",
      "Try using .loc[row_indexer,col_indexer] = value instead\n",
      "\n",
      "See the caveats in the documentation: https://pandas.pydata.org/pandas-docs/stable/user_guide/indexing.html#returning-a-view-versus-a-copy\n",
      "  sorted_weather_df['sys.sunset'] = sorted_weather_df['sys.sunset'] - timedelta(hours=3)\n",
      "C:\\Users\\Julito\\AppData\\Local\\Temp\\ipykernel_10236\\570888800.py:26: SettingWithCopyWarning: \n",
      "A value is trying to be set on a copy of a slice from a DataFrame\n",
      "\n",
      "See the caveats in the documentation: https://pandas.pydata.org/pandas-docs/stable/user_guide/indexing.html#returning-a-view-versus-a-copy\n",
      "  sorted_weather_df.rename(columns = {'sys.country':'country','coord.lon':'longitude','coord.lat':'latitude','main.temp':'temp','main.feels_like':'feels_like','main.temp_min':'temp_min','main.temp_max':'temp_max','main.pressure':'pressure','main.humidity':'humidity','wind.speed':'wind_speed','wind.deg':'wind_deg','clouds.all':'clouds','sys.sunrise':'sunrise_time','sys.sunset':'sunset_time'}, inplace = True)\n"
     ]
    },
    {
     "data": {
      "text/html": [
       "<div>\n",
       "<style scoped>\n",
       "    .dataframe tbody tr th:only-of-type {\n",
       "        vertical-align: middle;\n",
       "    }\n",
       "\n",
       "    .dataframe tbody tr th {\n",
       "        vertical-align: top;\n",
       "    }\n",
       "\n",
       "    .dataframe thead th {\n",
       "        text-align: right;\n",
       "    }\n",
       "</style>\n",
       "<table border=\"1\" class=\"dataframe\">\n",
       "  <thead>\n",
       "    <tr style=\"text-align: right;\">\n",
       "      <th></th>\n",
       "      <th>dt</th>\n",
       "      <th>name</th>\n",
       "      <th>country</th>\n",
       "      <th>longitude</th>\n",
       "      <th>latitude</th>\n",
       "      <th>main</th>\n",
       "      <th>description</th>\n",
       "      <th>temp</th>\n",
       "      <th>feels_like</th>\n",
       "      <th>temp_min</th>\n",
       "      <th>temp_max</th>\n",
       "      <th>pressure</th>\n",
       "      <th>humidity</th>\n",
       "      <th>wind_speed</th>\n",
       "      <th>wind_deg</th>\n",
       "      <th>clouds</th>\n",
       "      <th>sunrise_time</th>\n",
       "      <th>sunset_time</th>\n",
       "    </tr>\n",
       "  </thead>\n",
       "  <tbody>\n",
       "    <tr>\n",
       "      <th>0</th>\n",
       "      <td>2023-11-06 19:34:18</td>\n",
       "      <td>Buenos Aires</td>\n",
       "      <td>AR</td>\n",
       "      <td>-58.3772</td>\n",
       "      <td>-34.6132</td>\n",
       "      <td>Clear</td>\n",
       "      <td>cielo claro</td>\n",
       "      <td>21.87</td>\n",
       "      <td>21.97</td>\n",
       "      <td>21.07</td>\n",
       "      <td>22.1</td>\n",
       "      <td>1013</td>\n",
       "      <td>71</td>\n",
       "      <td>7.72</td>\n",
       "      <td>100</td>\n",
       "      <td>0</td>\n",
       "      <td>2023-11-06 05:47:23</td>\n",
       "      <td>2023-11-06 19:26:52</td>\n",
       "    </tr>\n",
       "  </tbody>\n",
       "</table>\n",
       "</div>"
      ],
      "text/plain": [
       "                   dt          name country  longitude  latitude   main  \\\n",
       "0 2023-11-06 19:34:18  Buenos Aires      AR   -58.3772  -34.6132  Clear   \n",
       "\n",
       "   description   temp  feels_like  temp_min  temp_max  pressure  humidity  \\\n",
       "0  cielo claro  21.87       21.97     21.07      22.1      1013        71   \n",
       "\n",
       "   wind_speed  wind_deg  clouds        sunrise_time         sunset_time  \n",
       "0        7.72       100       0 2023-11-06 05:47:23 2023-11-06 19:26:52  "
      ]
     },
     "execution_count": 87,
     "metadata": {},
     "output_type": "execute_result"
    }
   ],
   "source": [
    "transform_data(raw_weather_data)"
   ]
  },
  {
   "cell_type": "markdown",
   "metadata": {},
   "source": [
    "2.3 - VARIABLE FUERA DE LA FUNCION PARA LUEGO CARGAR EN REDSHIFT"
   ]
  },
  {
   "cell_type": "code",
   "execution_count": 88,
   "metadata": {},
   "outputs": [
    {
     "name": "stderr",
     "output_type": "stream",
     "text": [
      "C:\\Users\\Julito\\AppData\\Local\\Temp\\ipykernel_10236\\570888800.py:16: SettingWithCopyWarning: \n",
      "A value is trying to be set on a copy of a slice from a DataFrame.\n",
      "Try using .loc[row_indexer,col_indexer] = value instead\n",
      "\n",
      "See the caveats in the documentation: https://pandas.pydata.org/pandas-docs/stable/user_guide/indexing.html#returning-a-view-versus-a-copy\n",
      "  sorted_weather_df['dt'] = pd.to_datetime(sorted_weather_df['dt'], unit='s')\n",
      "C:\\Users\\Julito\\AppData\\Local\\Temp\\ipykernel_10236\\570888800.py:17: SettingWithCopyWarning: \n",
      "A value is trying to be set on a copy of a slice from a DataFrame.\n",
      "Try using .loc[row_indexer,col_indexer] = value instead\n",
      "\n",
      "See the caveats in the documentation: https://pandas.pydata.org/pandas-docs/stable/user_guide/indexing.html#returning-a-view-versus-a-copy\n",
      "  sorted_weather_df['sys.sunrise'] = pd.to_datetime(sorted_weather_df['sys.sunrise'], unit='s')\n",
      "C:\\Users\\Julito\\AppData\\Local\\Temp\\ipykernel_10236\\570888800.py:18: SettingWithCopyWarning: \n",
      "A value is trying to be set on a copy of a slice from a DataFrame.\n",
      "Try using .loc[row_indexer,col_indexer] = value instead\n",
      "\n",
      "See the caveats in the documentation: https://pandas.pydata.org/pandas-docs/stable/user_guide/indexing.html#returning-a-view-versus-a-copy\n",
      "  sorted_weather_df['sys.sunset'] = pd.to_datetime(sorted_weather_df['sys.sunset'], unit='s')\n",
      "C:\\Users\\Julito\\AppData\\Local\\Temp\\ipykernel_10236\\570888800.py:21: SettingWithCopyWarning: \n",
      "A value is trying to be set on a copy of a slice from a DataFrame.\n",
      "Try using .loc[row_indexer,col_indexer] = value instead\n",
      "\n",
      "See the caveats in the documentation: https://pandas.pydata.org/pandas-docs/stable/user_guide/indexing.html#returning-a-view-versus-a-copy\n",
      "  sorted_weather_df['dt'] = sorted_weather_df['dt'] - timedelta(hours=3)\n",
      "C:\\Users\\Julito\\AppData\\Local\\Temp\\ipykernel_10236\\570888800.py:22: SettingWithCopyWarning: \n",
      "A value is trying to be set on a copy of a slice from a DataFrame.\n",
      "Try using .loc[row_indexer,col_indexer] = value instead\n",
      "\n",
      "See the caveats in the documentation: https://pandas.pydata.org/pandas-docs/stable/user_guide/indexing.html#returning-a-view-versus-a-copy\n",
      "  sorted_weather_df['sys.sunrise'] = sorted_weather_df['sys.sunrise'] - timedelta(hours=3)\n",
      "C:\\Users\\Julito\\AppData\\Local\\Temp\\ipykernel_10236\\570888800.py:23: SettingWithCopyWarning: \n",
      "A value is trying to be set on a copy of a slice from a DataFrame.\n",
      "Try using .loc[row_indexer,col_indexer] = value instead\n",
      "\n",
      "See the caveats in the documentation: https://pandas.pydata.org/pandas-docs/stable/user_guide/indexing.html#returning-a-view-versus-a-copy\n",
      "  sorted_weather_df['sys.sunset'] = sorted_weather_df['sys.sunset'] - timedelta(hours=3)\n",
      "C:\\Users\\Julito\\AppData\\Local\\Temp\\ipykernel_10236\\570888800.py:26: SettingWithCopyWarning: \n",
      "A value is trying to be set on a copy of a slice from a DataFrame\n",
      "\n",
      "See the caveats in the documentation: https://pandas.pydata.org/pandas-docs/stable/user_guide/indexing.html#returning-a-view-versus-a-copy\n",
      "  sorted_weather_df.rename(columns = {'sys.country':'country','coord.lon':'longitude','coord.lat':'latitude','main.temp':'temp','main.feels_like':'feels_like','main.temp_min':'temp_min','main.temp_max':'temp_max','main.pressure':'pressure','main.humidity':'humidity','wind.speed':'wind_speed','wind.deg':'wind_deg','clouds.all':'clouds','sys.sunrise':'sunrise_time','sys.sunset':'sunset_time'}, inplace = True)\n"
     ]
    }
   ],
   "source": [
    "final_weather_df = transform_data(raw_weather_data)"
   ]
  },
  {
   "cell_type": "markdown",
   "metadata": {},
   "source": [
    "PASO 2 - CONEXIÓN A REDSHIFT"
   ]
  },
  {
   "cell_type": "code",
   "execution_count": 89,
   "metadata": {},
   "outputs": [
    {
     "name": "stdout",
     "output_type": "stream",
     "text": [
      "Conexión a Redshift exitosa!\n"
     ]
    }
   ],
   "source": [
    "import psycopg2\n",
    "\n",
    "url='data-engineer-cluster.cyhh5bfevlmn.us-east-1.redshift.amazonaws.com'\n",
    "data_base='data-engineer-database'\n",
    "user='juliocfurtado93_coderhouse'\n",
    "with open('pwd.txt','r') as file:\n",
    "    pwd= file.read()\n",
    "\n",
    "try:\n",
    "    conn = psycopg2.connect(\n",
    "        host='data-engineer-cluster.cyhh5bfevlmn.us-east-1.redshift.amazonaws.com',\n",
    "        dbname=data_base,\n",
    "        user=user,\n",
    "        password=pwd,\n",
    "        port='5439'\n",
    "    )\n",
    "    print('Conexión a Redshift exitosa!')\n",
    "    \n",
    "except Exception as e:\n",
    "    print('No se pudo conectar a Redshift.')\n",
    "    print(e)"
   ]
  },
  {
   "cell_type": "markdown",
   "metadata": {},
   "source": [
    "2.1 - FUNCION DE CARGA"
   ]
  },
  {
   "cell_type": "code",
   "execution_count": null,
   "metadata": {},
   "outputs": [],
   "source": [
    "#me falta que pueda manejar duplicados usando una pk\n",
    "#de encontrar un duplicado, deberia reemplazarlo con lo ultimo que se intente cargar"
   ]
  },
  {
   "cell_type": "code",
   "execution_count": 90,
   "metadata": {},
   "outputs": [],
   "source": [
    "from psycopg2.extras import execute_values\n",
    "from psycopg2 import sql\n",
    "\n",
    "def redshift_carga(conn, table_name, dataframe):\n",
    "    #almacena los tipos de datos del df\n",
    "    dtypes= dataframe.dtypes\n",
    "\n",
    "    #las columnas del df\n",
    "    columnas= list(dtypes.index )\n",
    "\n",
    "    #los valores dentro de los tipos de dato\n",
    "    tipos_pre= list(dtypes.values)\n",
    "\n",
    "    #mapa de tipos para redshift\n",
    "    mapa = {\n",
    "        'int64': 'INT',\n",
    "        'float64': 'FLOAT',\n",
    "        'object': 'VARCHAR(50)',\n",
    "        'datetime64[ns]': 'TIMESTAMP'\n",
    "        }\n",
    "    \n",
    "    #itera para asignarle un valor del mapa a cada dtype de esa variable\n",
    "    sql_tipos = [mapa[str(dtype)] for dtype in tipos_pre]\n",
    "\n",
    "    #arma los nombres de las columnas en sql para poder armar la sentencia de creacion\n",
    "    columnas_redshift = [f\"{name} {data_type}\" for name, data_type in zip(columnas, sql_tipos)]\n",
    "\n",
    "    #schema por si no existiese la tabla\n",
    "    table_schema = f\"\"\"\n",
    "        CREATE TABLE IF NOT EXISTS {table_name} (\n",
    "            {', '.join(columnas_redshift)}\n",
    "        );\n",
    "        \"\"\"\n",
    "    \n",
    "    #crea la tabla si no existe\n",
    "    cur = conn.cursor()\n",
    "    cur.execute(table_schema)\n",
    "\n",
    "    #guarda los valores en tuplas para insertar\n",
    "    values = [tuple(x) for x in dataframe.to_numpy()]\n",
    "\n",
    "    #define el insert usando sql de psycopg2 (itera con las columnas tambien)\n",
    "    insert_sql = sql.SQL(\"INSERT INTO {} ({}) VALUES %s\").format(\n",
    "        sql.Identifier(table_name),\n",
    "        sql.SQL(', ').join(map(sql.Identifier, columnas))\n",
    "    )\n",
    "\n",
    "    #execute values ejecuta la inserción en la tabla\n",
    "    cur.execute(\"BEGIN\")\n",
    "    execute_values(cur, insert_sql, values)\n",
    "    cur.execute(\"COMMIT\")\n",
    "    print('Carga completada en Redshift!')"
   ]
  },
  {
   "cell_type": "markdown",
   "metadata": {},
   "source": [
    "2.2 - EJECUCIÓN"
   ]
  },
  {
   "cell_type": "code",
   "execution_count": 91,
   "metadata": {},
   "outputs": [
    {
     "name": "stdout",
     "output_type": "stream",
     "text": [
      "Carga completada en Redshift!\n"
     ]
    }
   ],
   "source": [
    "redshift_carga(conn=conn, table_name='open_weather_v2', dataframe=final_weather_df)"
   ]
  },
  {
   "cell_type": "markdown",
   "metadata": {},
   "source": [
    "2.3 - CIERRE DE CONEXIÓN"
   ]
  },
  {
   "cell_type": "code",
   "execution_count": 92,
   "metadata": {},
   "outputs": [],
   "source": [
    "conn.close()"
   ]
  }
 ],
 "metadata": {
  "kernelspec": {
   "display_name": "Python 3",
   "language": "python",
   "name": "python3"
  },
  "language_info": {
   "codemirror_mode": {
    "name": "ipython",
    "version": 3
   },
   "file_extension": ".py",
   "mimetype": "text/x-python",
   "name": "python",
   "nbconvert_exporter": "python",
   "pygments_lexer": "ipython3",
   "version": "3.10.11"
  }
 },
 "nbformat": 4,
 "nbformat_minor": 2
}
